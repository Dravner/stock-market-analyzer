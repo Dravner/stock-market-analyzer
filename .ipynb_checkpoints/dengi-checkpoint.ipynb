{
 "cells": [
  {
   "cell_type": "code",
   "execution_count": 152,
   "id": "065ad2b0",
   "metadata": {},
   "outputs": [],
   "source": [
    "import nltk\n",
    "import pandas as pd\n",
    "from nltk.tokenize import word_tokenize\n",
    "from nltk.corpus import stopwords\n",
    "from nltk.stem import WordNetLemmatizer\n",
    "from nltk import FreqDist\n",
    "from sklearn.model_selection import train_test_split\n",
    "from sklearn.feature_extraction.text import CountVectorizer\n",
    "from tensorflow.keras.models import Sequential, Model\n",
    "from tensorflow.keras.layers import Embedding, LSTM, Dense, Concatenate, Input\n",
    "from tensorflow.keras.preprocessing.text import Tokenizer\n",
    "from tensorflow.keras.preprocessing.sequence import pad_sequences\n",
    "import tensorflow as tf\n",
    "import matplotlib.pyplot as plt\n",
    "import numpy as np\n",
    "import seaborn as sns\n",
    "from sklearn.metrics import mean_absolute_error, mean_squared_error, r2_score, mean_absolute_percentage_error"
   ]
  },
  {
   "cell_type": "code",
   "execution_count": 121,
   "id": "d1858efb-2b65-498e-90af-9a8e5ff2588b",
   "metadata": {},
   "outputs": [],
   "source": [
    "# nltk.download('punkt')\n",
    "# nltk.download('stopwords')\n",
    "# nltk.download('wordnet')"
   ]
  },
  {
   "cell_type": "code",
   "execution_count": 122,
   "id": "31dc51ea",
   "metadata": {},
   "outputs": [],
   "source": [
    "# Загрузка и предобработка данных\n",
    "df = pd.read_csv('tesla_tweets.csv')  # Замените 'tesla_tweets.csv' на имя вашего файла с данными\n",
    "tweets = df['text'].values\n",
    "k_values = df['k'].values"
   ]
  },
  {
   "cell_type": "code",
   "execution_count": 123,
   "id": "8abde5ba",
   "metadata": {},
   "outputs": [],
   "source": [
    "# Предобработка текстов\n",
    "stop_words = set(stopwords.words('english'))  # Предполагается, что тексты на английском\n",
    "lemmatizer = WordNetLemmatizer()"
   ]
  },
  {
   "cell_type": "code",
   "execution_count": 124,
   "id": "08ade895",
   "metadata": {},
   "outputs": [],
   "source": [
    "def preprocess_text(text):\n",
    "    tokens = word_tokenize(text)\n",
    "    filtered_tokens = [word for word in tokens if word.lower() not in stop_words]\n",
    "    lemmatized_tokens = [lemmatizer.lemmatize(word) for word in filtered_tokens]\n",
    "    return ' '.join(lemmatized_tokens)"
   ]
  },
  {
   "cell_type": "code",
   "execution_count": 125,
   "id": "fa9d324f-14c0-4acb-896e-51d51cdc4487",
   "metadata": {},
   "outputs": [],
   "source": [
    "preprocessed_tweets = [preprocess_text(tweet) for tweet in tweets]"
   ]
  },
  {
   "cell_type": "code",
   "execution_count": 126,
   "id": "a96e4fa5-3159-406f-8e13-fada71c31a62",
   "metadata": {},
   "outputs": [],
   "source": [
    "# Разделение на обучающий и тестовый наборы\n",
    "X_train, X_test, y_train, y_test = train_test_split(preprocessed_tweets, k_values, test_size=0.2, random_state=42)"
   ]
  },
  {
   "cell_type": "code",
   "execution_count": 127,
   "id": "7d78533f-bd5b-4b89-8250-f31e52c070d3",
   "metadata": {},
   "outputs": [],
   "source": [
    "# Создание Bag of Words представления текста\n",
    "tokenizer = Tokenizer()\n",
    "tokenizer.fit_on_texts(X_train)\n",
    "X_train_sequences = tokenizer.texts_to_sequences(X_train)\n",
    "X_test_sequences = tokenizer.texts_to_sequences(X_test)"
   ]
  },
  {
   "cell_type": "code",
   "execution_count": 128,
   "id": "7cf1572e-2d38-45bf-9ee8-d9567f61a9ad",
   "metadata": {},
   "outputs": [],
   "source": [
    "# # Обучение модели LSTM\n",
    "# max_sequence_length = 100  # Максимальная длина последовательности\n",
    "# X_train_padded = pad_sequences(X_train_sequences, maxlen=max_sequence_length, padding='post')\n",
    "# X_test_padded = pad_sequences(X_test_sequences, maxlen=max_sequence_length, padding='post')\n",
    "\n",
    "# model = Sequential()\n",
    "# model.add(Embedding(len(tokenizer.word_index) + 1, 128, input_length=max_sequence_length))\n",
    "# model.add(LSTM(64))\n",
    "# model.add(Dense(1, activation='swish'))\n",
    "# model.compile(loss='mean_squared_error', optimizer='adam')\n",
    "# model.fit(X_train_padded, y_train, epochs=10, batch_size=8, validation_data=(X_test_padded, y_test))"
   ]
  },
  {
   "cell_type": "code",
   "execution_count": 163,
   "id": "cbb1fae3-5ef4-445f-b6c9-8bb2b0c4e212",
   "metadata": {},
   "outputs": [
    {
     "name": "stdout",
     "output_type": "stream",
     "text": [
      "Epoch 1/10\n",
      "62/62 [==============================] - 11s 96ms/step - loss: -14694004.0000 - val_loss: -86677280.0000\n",
      "Epoch 2/10\n",
      "62/62 [==============================] - 5s 75ms/step - loss: -351852896.0000 - val_loss: -730267328.0000\n",
      "Epoch 3/10\n",
      "62/62 [==============================] - 7s 118ms/step - loss: -1305666432.0000 - val_loss: -4397593088.0000\n",
      "Epoch 4/10\n",
      "62/62 [==============================] - 6s 94ms/step - loss: -6006500864.0000 - val_loss: -14297113600.0000\n",
      "Epoch 5/10\n",
      "62/62 [==============================] - 6s 96ms/step - loss: -42334183424.0000 - val_loss: -45144039424.0000\n",
      "Epoch 6/10\n",
      "62/62 [==============================] - 6s 98ms/step - loss: -57257885696.0000 - val_loss: -78186250240.0000\n",
      "Epoch 7/10\n",
      "62/62 [==============================] - 5s 81ms/step - loss: -76207988736.0000 - val_loss: -125758636032.0000\n",
      "Epoch 8/10\n",
      "62/62 [==============================] - 5s 85ms/step - loss: -132280434688.0000 - val_loss: -201724542976.0000\n",
      "Epoch 9/10\n",
      "62/62 [==============================] - 6s 103ms/step - loss: -497859461120.0000 - val_loss: -371886915584.0000\n",
      "Epoch 10/10\n",
      "62/62 [==============================] - 5s 75ms/step - loss: -363556962304.0000 - val_loss: -479077892096.0000\n"
     ]
    },
    {
     "data": {
      "text/plain": [
       "<keras.src.callbacks.History at 0x248361b1c10>"
      ]
     },
     "execution_count": 163,
     "metadata": {},
     "output_type": "execute_result"
    }
   ],
   "source": [
    "# Создание модели\n",
    "max_sequence_length = 100  # Максимальная длина последовательности\n",
    "X_train_padded = pad_sequences(X_train_sequences, maxlen=max_sequence_length, padding='post')\n",
    "X_test_padded = pad_sequences(X_test_sequences, maxlen=max_sequence_length, padding='post')\n",
    "\n",
    "\n",
    "model = Sequential()\n",
    "model.add(Embedding(input_dim=len(tokenizer.word_index) + 1, output_dim=128, input_length=100))\n",
    "model.add(LSTM(64, return_sequences=True))\n",
    "model.add(LSTM(64))\n",
    "model.add(Dense(1))\n",
    "\n",
    "# Создание входа для данных о ценах акций\n",
    "input_prices = Input(shape=(1,))\n",
    "\n",
    "# Комбинирование текстовых и ценовых данных\n",
    "combined_input = Concatenate()([model.output, input_prices])  # Замените на вашу обработку данных о ценах акций\n",
    "output = Dense(2)(combined_input)\n",
    "\n",
    "final_model = Model(inputs=[model.input, input_prices], outputs=output)\n",
    "\n",
    "def r_squared(y_true, y_pred):\n",
    "    ss_res = tf.reduce_sum(tf.square(y_true - y_pred))\n",
    "    ss_tot = tf.reduce_sum(tf.square(y_true - tf.reduce_mean(y_true)))\n",
    "    return 1 - ss_res / (ss_tot + tf.keras.backend.epsilon())\n",
    "\n",
    "# Компиляция модели\n",
    "final_model.compile(loss=r_squared, optimizer='adam')\n",
    "\n",
    "# Обучение модели\n",
    "final_model.fit([X_train_padded, y_train], y_train, epochs=10, batch_size=8, validation_data=([X_test_padded, y_test], y_test))"
   ]
  },
  {
   "cell_type": "code",
   "execution_count": 164,
   "id": "634a93a8-4957-4368-809b-621d742ff00f",
   "metadata": {},
   "outputs": [
    {
     "name": "stdout",
     "output_type": "stream",
     "text": [
      "4/4 [==============================] - 1s 44ms/step\n"
     ]
    }
   ],
   "source": [
    "y_pred = model.predict(X_test_padded).flatten()"
   ]
  },
  {
   "cell_type": "code",
   "execution_count": 165,
   "id": "15b4fccd-20be-44e0-9333-e61ad0066ea1",
   "metadata": {},
   "outputs": [
    {
     "ename": "ValueError",
     "evalue": "Found input variables with inconsistent numbers of samples: [125, 8000]",
     "output_type": "error",
     "traceback": [
      "\u001b[1;31m---------------------------------------------------------------------------\u001b[0m",
      "\u001b[1;31mValueError\u001b[0m                                Traceback (most recent call last)",
      "Cell \u001b[1;32mIn[165], line 2\u001b[0m\n\u001b[0;32m      1\u001b[0m \u001b[38;5;66;03m# Вычисление метрик\u001b[39;00m\n\u001b[1;32m----> 2\u001b[0m mae \u001b[38;5;241m=\u001b[39m \u001b[43mmean_absolute_error\u001b[49m\u001b[43m(\u001b[49m\u001b[43my_test\u001b[49m\u001b[43m,\u001b[49m\u001b[43m \u001b[49m\u001b[43my_pred\u001b[49m\u001b[43m)\u001b[49m\n\u001b[0;32m      3\u001b[0m mse \u001b[38;5;241m=\u001b[39m mean_squared_error(y_test, y_pred)\n\u001b[0;32m      4\u001b[0m rmse \u001b[38;5;241m=\u001b[39m np\u001b[38;5;241m.\u001b[39msqrt(mse)\n",
      "File \u001b[1;32m~\\AppData\\Local\\Programs\\Python\\Python311\\Lib\\site-packages\\sklearn\\utils\\_param_validation.py:214\u001b[0m, in \u001b[0;36mvalidate_params.<locals>.decorator.<locals>.wrapper\u001b[1;34m(*args, **kwargs)\u001b[0m\n\u001b[0;32m    208\u001b[0m \u001b[38;5;28;01mtry\u001b[39;00m:\n\u001b[0;32m    209\u001b[0m     \u001b[38;5;28;01mwith\u001b[39;00m config_context(\n\u001b[0;32m    210\u001b[0m         skip_parameter_validation\u001b[38;5;241m=\u001b[39m(\n\u001b[0;32m    211\u001b[0m             prefer_skip_nested_validation \u001b[38;5;129;01mor\u001b[39;00m global_skip_validation\n\u001b[0;32m    212\u001b[0m         )\n\u001b[0;32m    213\u001b[0m     ):\n\u001b[1;32m--> 214\u001b[0m         \u001b[38;5;28;01mreturn\u001b[39;00m \u001b[43mfunc\u001b[49m\u001b[43m(\u001b[49m\u001b[38;5;241;43m*\u001b[39;49m\u001b[43margs\u001b[49m\u001b[43m,\u001b[49m\u001b[43m \u001b[49m\u001b[38;5;241;43m*\u001b[39;49m\u001b[38;5;241;43m*\u001b[39;49m\u001b[43mkwargs\u001b[49m\u001b[43m)\u001b[49m\n\u001b[0;32m    215\u001b[0m \u001b[38;5;28;01mexcept\u001b[39;00m InvalidParameterError \u001b[38;5;28;01mas\u001b[39;00m e:\n\u001b[0;32m    216\u001b[0m     \u001b[38;5;66;03m# When the function is just a wrapper around an estimator, we allow\u001b[39;00m\n\u001b[0;32m    217\u001b[0m     \u001b[38;5;66;03m# the function to delegate validation to the estimator, but we replace\u001b[39;00m\n\u001b[0;32m    218\u001b[0m     \u001b[38;5;66;03m# the name of the estimator by the name of the function in the error\u001b[39;00m\n\u001b[0;32m    219\u001b[0m     \u001b[38;5;66;03m# message to avoid confusion.\u001b[39;00m\n\u001b[0;32m    220\u001b[0m     msg \u001b[38;5;241m=\u001b[39m re\u001b[38;5;241m.\u001b[39msub(\n\u001b[0;32m    221\u001b[0m         \u001b[38;5;124mr\u001b[39m\u001b[38;5;124m\"\u001b[39m\u001b[38;5;124mparameter of \u001b[39m\u001b[38;5;124m\\\u001b[39m\u001b[38;5;124mw+ must be\u001b[39m\u001b[38;5;124m\"\u001b[39m,\n\u001b[0;32m    222\u001b[0m         \u001b[38;5;124mf\u001b[39m\u001b[38;5;124m\"\u001b[39m\u001b[38;5;124mparameter of \u001b[39m\u001b[38;5;132;01m{\u001b[39;00mfunc\u001b[38;5;241m.\u001b[39m\u001b[38;5;18m__qualname__\u001b[39m\u001b[38;5;132;01m}\u001b[39;00m\u001b[38;5;124m must be\u001b[39m\u001b[38;5;124m\"\u001b[39m,\n\u001b[0;32m    223\u001b[0m         \u001b[38;5;28mstr\u001b[39m(e),\n\u001b[0;32m    224\u001b[0m     )\n",
      "File \u001b[1;32m~\\AppData\\Local\\Programs\\Python\\Python311\\Lib\\site-packages\\sklearn\\metrics\\_regression.py:204\u001b[0m, in \u001b[0;36mmean_absolute_error\u001b[1;34m(y_true, y_pred, sample_weight, multioutput)\u001b[0m\n\u001b[0;32m    140\u001b[0m \u001b[38;5;129m@validate_params\u001b[39m(\n\u001b[0;32m    141\u001b[0m     {\n\u001b[0;32m    142\u001b[0m         \u001b[38;5;124m\"\u001b[39m\u001b[38;5;124my_true\u001b[39m\u001b[38;5;124m\"\u001b[39m: [\u001b[38;5;124m\"\u001b[39m\u001b[38;5;124marray-like\u001b[39m\u001b[38;5;124m\"\u001b[39m],\n\u001b[1;32m   (...)\u001b[0m\n\u001b[0;32m    150\u001b[0m     y_true, y_pred, \u001b[38;5;241m*\u001b[39m, sample_weight\u001b[38;5;241m=\u001b[39m\u001b[38;5;28;01mNone\u001b[39;00m, multioutput\u001b[38;5;241m=\u001b[39m\u001b[38;5;124m\"\u001b[39m\u001b[38;5;124muniform_average\u001b[39m\u001b[38;5;124m\"\u001b[39m\n\u001b[0;32m    151\u001b[0m ):\n\u001b[0;32m    152\u001b[0m \u001b[38;5;250m    \u001b[39m\u001b[38;5;124;03m\"\"\"Mean absolute error regression loss.\u001b[39;00m\n\u001b[0;32m    153\u001b[0m \n\u001b[0;32m    154\u001b[0m \u001b[38;5;124;03m    Read more in the :ref:`User Guide <mean_absolute_error>`.\u001b[39;00m\n\u001b[1;32m   (...)\u001b[0m\n\u001b[0;32m    202\u001b[0m \u001b[38;5;124;03m    0.85...\u001b[39;00m\n\u001b[0;32m    203\u001b[0m \u001b[38;5;124;03m    \"\"\"\u001b[39;00m\n\u001b[1;32m--> 204\u001b[0m     y_type, y_true, y_pred, multioutput \u001b[38;5;241m=\u001b[39m \u001b[43m_check_reg_targets\u001b[49m\u001b[43m(\u001b[49m\n\u001b[0;32m    205\u001b[0m \u001b[43m        \u001b[49m\u001b[43my_true\u001b[49m\u001b[43m,\u001b[49m\u001b[43m \u001b[49m\u001b[43my_pred\u001b[49m\u001b[43m,\u001b[49m\u001b[43m \u001b[49m\u001b[43mmultioutput\u001b[49m\n\u001b[0;32m    206\u001b[0m \u001b[43m    \u001b[49m\u001b[43m)\u001b[49m\n\u001b[0;32m    207\u001b[0m     check_consistent_length(y_true, y_pred, sample_weight)\n\u001b[0;32m    208\u001b[0m     output_errors \u001b[38;5;241m=\u001b[39m np\u001b[38;5;241m.\u001b[39maverage(np\u001b[38;5;241m.\u001b[39mabs(y_pred \u001b[38;5;241m-\u001b[39m y_true), weights\u001b[38;5;241m=\u001b[39msample_weight, axis\u001b[38;5;241m=\u001b[39m\u001b[38;5;241m0\u001b[39m)\n",
      "File \u001b[1;32m~\\AppData\\Local\\Programs\\Python\\Python311\\Lib\\site-packages\\sklearn\\metrics\\_regression.py:99\u001b[0m, in \u001b[0;36m_check_reg_targets\u001b[1;34m(y_true, y_pred, multioutput, dtype)\u001b[0m\n\u001b[0;32m     65\u001b[0m \u001b[38;5;28;01mdef\u001b[39;00m \u001b[38;5;21m_check_reg_targets\u001b[39m(y_true, y_pred, multioutput, dtype\u001b[38;5;241m=\u001b[39m\u001b[38;5;124m\"\u001b[39m\u001b[38;5;124mnumeric\u001b[39m\u001b[38;5;124m\"\u001b[39m):\n\u001b[0;32m     66\u001b[0m \u001b[38;5;250m    \u001b[39m\u001b[38;5;124;03m\"\"\"Check that y_true and y_pred belong to the same regression task.\u001b[39;00m\n\u001b[0;32m     67\u001b[0m \n\u001b[0;32m     68\u001b[0m \u001b[38;5;124;03m    Parameters\u001b[39;00m\n\u001b[1;32m   (...)\u001b[0m\n\u001b[0;32m     97\u001b[0m \u001b[38;5;124;03m        correct keyword.\u001b[39;00m\n\u001b[0;32m     98\u001b[0m \u001b[38;5;124;03m    \"\"\"\u001b[39;00m\n\u001b[1;32m---> 99\u001b[0m     \u001b[43mcheck_consistent_length\u001b[49m\u001b[43m(\u001b[49m\u001b[43my_true\u001b[49m\u001b[43m,\u001b[49m\u001b[43m \u001b[49m\u001b[43my_pred\u001b[49m\u001b[43m)\u001b[49m\n\u001b[0;32m    100\u001b[0m     y_true \u001b[38;5;241m=\u001b[39m check_array(y_true, ensure_2d\u001b[38;5;241m=\u001b[39m\u001b[38;5;28;01mFalse\u001b[39;00m, dtype\u001b[38;5;241m=\u001b[39mdtype)\n\u001b[0;32m    101\u001b[0m     y_pred \u001b[38;5;241m=\u001b[39m check_array(y_pred, ensure_2d\u001b[38;5;241m=\u001b[39m\u001b[38;5;28;01mFalse\u001b[39;00m, dtype\u001b[38;5;241m=\u001b[39mdtype)\n",
      "File \u001b[1;32m~\\AppData\\Local\\Programs\\Python\\Python311\\Lib\\site-packages\\sklearn\\utils\\validation.py:407\u001b[0m, in \u001b[0;36mcheck_consistent_length\u001b[1;34m(*arrays)\u001b[0m\n\u001b[0;32m    405\u001b[0m uniques \u001b[38;5;241m=\u001b[39m np\u001b[38;5;241m.\u001b[39munique(lengths)\n\u001b[0;32m    406\u001b[0m \u001b[38;5;28;01mif\u001b[39;00m \u001b[38;5;28mlen\u001b[39m(uniques) \u001b[38;5;241m>\u001b[39m \u001b[38;5;241m1\u001b[39m:\n\u001b[1;32m--> 407\u001b[0m     \u001b[38;5;28;01mraise\u001b[39;00m \u001b[38;5;167;01mValueError\u001b[39;00m(\n\u001b[0;32m    408\u001b[0m         \u001b[38;5;124m\"\u001b[39m\u001b[38;5;124mFound input variables with inconsistent numbers of samples: \u001b[39m\u001b[38;5;132;01m%r\u001b[39;00m\u001b[38;5;124m\"\u001b[39m\n\u001b[0;32m    409\u001b[0m         \u001b[38;5;241m%\u001b[39m [\u001b[38;5;28mint\u001b[39m(l) \u001b[38;5;28;01mfor\u001b[39;00m l \u001b[38;5;129;01min\u001b[39;00m lengths]\n\u001b[0;32m    410\u001b[0m     )\n",
      "\u001b[1;31mValueError\u001b[0m: Found input variables with inconsistent numbers of samples: [125, 8000]"
     ]
    }
   ],
   "source": [
    "# Вычисление метрик\n",
    "mae = mean_absolute_error(y_test, y_pred)\n",
    "mse = mean_squared_error(y_test, y_pred)\n",
    "rmse = np.sqrt(mse)\n",
    "r_squared = r2_score(y_test, y_pred)\n",
    "mape = mean_absolute_percentage_error(y_test, y_pred) * 100\n",
    "\n",
    "print(f'Mean Absolute Error (MAE): {mae}')\n",
    "print(f'Mean Squared Error (MSE): {mse}')\n",
    "print(f'Root Mean Squared Error (RMSE): {rmse}')\n",
    "print(f'Коэффициент детерминации (R-squared): {r_squared}')\n",
    "print(f'Mean Absolute Percentage Error (MAPE): {mape}%')"
   ]
  },
  {
   "cell_type": "code",
   "execution_count": 162,
   "id": "ba35651a-1140-4488-94b8-33b4636f0730",
   "metadata": {},
   "outputs": [
    {
     "data": {
      "image/png": "[encoded data removed]",
      "text/plain": [
       "<Figure size 1000x600 with 1 Axes>"
      ]
     },
     "metadata": {},
     "output_type": "display_data"
    }
   ],
   "source": [
    "time_steps = range(len(y_test))\n",
    "plt.figure(figsize=(10, 6))\n",
    "plt.plot(time_steps, y_test, label='Фактические значения', marker='o')\n",
    "plt.plot(time_steps, y_pred, label='Предсказанные значения', marker='x')\n",
    "plt.xlabel('Временные шаги')\n",
    "plt.ylabel('Значения')\n",
    "plt.title('График временных рядов между фактическими и предсказанными значениями')\n",
    "plt.legend()\n",
    "plt.grid(True)"
   ]
  },
  {
   "cell_type": "code",
   "execution_count": 158,
   "id": "8cccb9ca-8ecc-45a0-8eba-c5424f55f20f",
   "metadata": {},
   "outputs": [
    {
     "data": {
      "text/plain": [
       "array([24.206009, 24.206009, 24.206009, 24.206009, 24.206009, 24.206009,\n",
       "       24.206009, 24.206009, 24.206009, 24.206009, 24.206009, 24.206009,\n",
       "       24.206009, 24.206009, 24.206009, 24.206009, 24.206009, 24.206009,\n",
       "       24.206009, 24.206009, 24.206009, 24.206009, 24.206009, 24.206009,\n",
       "       24.206009, 24.206009, 24.206009, 24.206009, 24.206009, 24.206009,\n",
       "       24.206009, 24.206009, 24.206009, 24.206009, 24.206009, 24.206009,\n",
       "       24.206009, 24.206009, 24.206009, 24.206009, 24.206009, 24.206009,\n",
       "       24.206009, 24.206009, 24.206009, 24.206009, 24.206009, 24.206009,\n",
       "       24.206009, 24.206009, 24.206009, 24.206009, 24.206009, 24.206009,\n",
       "       24.206009, 24.206009, 24.206009, 24.206009, 24.206009, 24.206009,\n",
       "       24.206009, 24.206009, 24.206009, 24.206009, 24.206009, 24.206009,\n",
       "       24.206009, 24.206009, 24.206009, 24.206009, 24.206009, 24.206009,\n",
       "       24.206009, 24.206009, 24.206009, 24.206009, 24.206009, 24.206009,\n",
       "       24.206009, 24.206009, 24.206009, 24.206009, 24.206009, 24.206009,\n",
       "       24.206009, 24.206009, 24.206009, 24.206009, 24.206009, 24.206009,\n",
       "       24.206009, 24.206009, 24.206009, 24.206009, 24.206009, 24.206009,\n",
       "       24.206009, 24.206009, 24.206009, 24.206009, 24.206009, 24.206009,\n",
       "       24.206009, 24.206009, 24.206009, 24.206009, 24.206009, 24.206009,\n",
       "       24.206009, 24.206009, 24.206009, 24.206009, 24.206009, 24.206009,\n",
       "       24.206009, 24.206009, 24.206009, 24.206009, 24.206009, 24.206009,\n",
       "       24.206009, 24.206009, 24.206009, 24.206009, 24.206009],\n",
       "      dtype=float32)"
      ]
     },
     "execution_count": 158,
     "metadata": {},
     "output_type": "execute_result"
    }
   ],
   "source": [
    "y_pred"
   ]
  },
  {
   "cell_type": "code",
   "execution_count": 146,
   "id": "10a7baec-4b51-4203-aba5-251a576bb19c",
   "metadata": {},
   "outputs": [
    {
     "data": {
      "text/plain": [
       "(125,)"
      ]
     },
     "execution_count": 146,
     "metadata": {},
     "output_type": "execute_result"
    }
   ],
   "source": [
    "y_pred.shape"
   ]
  },
  {
   "cell_type": "code",
   "execution_count": null,
   "id": "e9376294-624a-4822-afca-a1b0a3f432a9",
   "metadata": {},
   "outputs": [],
   "source": []
  },
  {
   "cell_type": "code",
   "execution_count": null,
   "id": "0d50e16f-8100-4ffe-842a-7e521db4fc4e",
   "metadata": {},
   "outputs": [],
   "source": []
  },
  {
   "cell_type": "code",
   "execution_count": null,
   "id": "0bef308e-36f8-4144-88a1-9ec11a608361",
   "metadata": {},
   "outputs": [],
   "source": []
  },
  {
   "cell_type": "code",
   "execution_count": 28,
   "id": "f1d3b1a8-f3df-42da-a0e7-0275902d7ae5",
   "metadata": {},
   "outputs": [
    {
     "name": "stdout",
     "output_type": "stream",
     "text": [
      "1/1 [==============================] - 0s 446ms/step\n",
      "Predicted coefficient (k) for the new tweet: 1.002305269241333\n"
     ]
    }
   ],
   "source": [
    "# Прогноз изменения цены акций на основе текста\n",
    "new_tweet = [\"Tesla announces a breakthrough in battery technology.\"]\n",
    "new_tweet_preprocessed = [preprocess_text(tweet) for tweet in new_tweet]\n",
    "new_tweet_sequences = tokenizer.texts_to_sequences(new_tweet_preprocessed)\n",
    "new_tweet_padded = pad_sequences(new_tweet_sequences, maxlen=max_sequence_length, padding='post')\n",
    "predicted_k = model.predict(new_tweet_padded)\n",
    "print(f'Predicted coefficient (k) for the new tweet: {predicted_k[0][0]}')"
   ]
  },
  {
   "cell_type": "code",
   "execution_count": 29,
   "id": "3b1f9cbc-c655-4644-8d94-8d4f51cac4fb",
   "metadata": {},
   "outputs": [
    {
     "data": {
      "text/html": [
       "<div>\n",
       "<style scoped>\n",
       "    .dataframe tbody tr th:only-of-type {\n",
       "        vertical-align: middle;\n",
       "    }\n",
       "\n",
       "    .dataframe tbody tr th {\n",
       "        vertical-align: top;\n",
       "    }\n",
       "\n",
       "    .dataframe thead th {\n",
       "        text-align: right;\n",
       "    }\n",
       "</style>\n",
       "<table border=\"1\" class=\"dataframe\">\n",
       "  <thead>\n",
       "    <tr style=\"text-align: right;\">\n",
       "      <th></th>\n",
       "      <th>text</th>\n",
       "      <th>k</th>\n",
       "    </tr>\n",
       "  </thead>\n",
       "  <tbody>\n",
       "    <tr>\n",
       "      <th>0</th>\n",
       "      <td>No tweet</td>\n",
       "      <td>1.156913</td>\n",
       "    </tr>\n",
       "    <tr>\n",
       "      <th>1</th>\n",
       "      <td>No tweet</td>\n",
       "      <td>0.946393</td>\n",
       "    </tr>\n",
       "    <tr>\n",
       "      <th>2</th>\n",
       "      <td>No tweet</td>\n",
       "      <td>0.898637</td>\n",
       "    </tr>\n",
       "    <tr>\n",
       "      <th>3</th>\n",
       "      <td>No tweet</td>\n",
       "      <td>0.855687</td>\n",
       "    </tr>\n",
       "    <tr>\n",
       "      <th>4</th>\n",
       "      <td>No tweet</td>\n",
       "      <td>0.891720</td>\n",
       "    </tr>\n",
       "    <tr>\n",
       "      <th>...</th>\n",
       "      <td>...</td>\n",
       "      <td>...</td>\n",
       "    </tr>\n",
       "    <tr>\n",
       "      <th>3674</th>\n",
       "      <td>Q3 2023 Earnings Call https://t.co/eSwixzYTJD</td>\n",
       "      <td>1.000000</td>\n",
       "    </tr>\n",
       "    <tr>\n",
       "      <th>3675</th>\n",
       "      <td>Q3 2023 Earnings Call https://t.co/eSwixzYTJD</td>\n",
       "      <td>0.900440</td>\n",
       "    </tr>\n",
       "    <tr>\n",
       "      <th>3676</th>\n",
       "      <td>No tweet</td>\n",
       "      <td>0.961754</td>\n",
       "    </tr>\n",
       "    <tr>\n",
       "      <th>3677</th>\n",
       "      <td>No tweet</td>\n",
       "      <td>0.983869</td>\n",
       "    </tr>\n",
       "    <tr>\n",
       "      <th>3678</th>\n",
       "      <td>No tweet</td>\n",
       "      <td>1.025919</td>\n",
       "    </tr>\n",
       "  </tbody>\n",
       "</table>\n",
       "<p>3679 rows × 2 columns</p>\n",
       "</div>"
      ],
      "text/plain": [
       "                                               text         k\n",
       "0                                          No tweet  1.156913\n",
       "1                                          No tweet  0.946393\n",
       "2                                          No tweet  0.898637\n",
       "3                                          No tweet  0.855687\n",
       "4                                          No tweet  0.891720\n",
       "...                                             ...       ...\n",
       "3674  Q3 2023 Earnings Call https://t.co/eSwixzYTJD  1.000000\n",
       "3675  Q3 2023 Earnings Call https://t.co/eSwixzYTJD  0.900440\n",
       "3676                                       No tweet  0.961754\n",
       "3677                                       No tweet  0.983869\n",
       "3678                                       No tweet  1.025919\n",
       "\n",
       "[3679 rows x 2 columns]"
      ]
     },
     "execution_count": 29,
     "metadata": {},
     "output_type": "execute_result"
    }
   ],
   "source": [
    "df"
   ]
  },
  {
   "cell_type": "code",
   "execution_count": null,
   "id": "5759dd70-ad74-4059-a915-2d1c20e877d9",
   "metadata": {},
   "outputs": [],
   "source": []
  }
 ],
 "metadata": {
  "kernelspec": {
   "display_name": "Python 3 (ipykernel)",
   "language": "python",
   "name": "python3"
  },
  "language_info": {
   "codemirror_mode": {
    "name": "ipython",
    "version": 3
   },
   "file_extension": ".py",
   "mimetype": "text/x-python",
   "name": "python",
   "nbconvert_exporter": "python",
   "pygments_lexer": "ipython3",
   "version": "3.11.3"
  }
 },
 "nbformat": 4,
 "nbformat_minor": 5
}
