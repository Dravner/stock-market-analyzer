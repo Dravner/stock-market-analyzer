{
 "cells": [
  {
   "cell_type": "code",
   "execution_count": 118,
   "id": "9313a4d7-1462-48d0-934f-9a9db9d8a93c",
   "metadata": {},
   "outputs": [],
   "source": [
    "import pandas as pd\n",
    "import json\n",
    "from yahoo_fin.stock_info import get_data"
   ]
  },
  {
   "cell_type": "code",
   "execution_count": 158,
   "id": "4eec3da9-645a-4e07-8565-7d60b19a396a",
   "metadata": {},
   "outputs": [],
   "source": [
    "df = get_data(\"TSLA\", start_date=\"10/20/2000\", end_date=\"10/25/2023\", index_as_date = True, interval=\"1d\")"
   ]
  },
  {
   "cell_type": "code",
   "execution_count": 159,
   "id": "02a80f75-e208-4eb7-8f60-e110c9673e1d",
   "metadata": {},
   "outputs": [],
   "source": [
    "prices = pd.DataFrame(df[['open', 'close']].mean(axis = 1)).rename(columns = {0 : 'price'})\n",
    "# prices['date'] = pd.to_datetime(prices['date'])\n",
    "# prices = prices.set_index('date')\n",
    "prices = prices.reset_index().rename(columns = {'index' : 'date'})"
   ]
  },
  {
   "cell_type": "code",
   "execution_count": 161,
   "id": "b3447093-2bad-4952-b573-998e87dc474d",
   "metadata": {},
   "outputs": [],
   "source": [
    "with open(\"tweets_utf8.txt\", \"r\") as file:\n",
    "    # Весь файл считывается в одну строку\n",
    "    file_contents = file.read()\n",
    "\n",
    "# Ваши исходные строки в текстовом форматеf\n",
    "text_data = file_contents\n",
    "# Разделите строки и преобразуйте их в список JSON-объектов\n",
    "json_list = [json.loads(line) for line in text_data.strip().split('\\n')]\n",
    "\n",
    "# Задайте имя файла, в который вы хотите записать JSON\n",
    "output_file = \"output.json\"\n",
    "\n",
    "# Запись списка JSON-объектов в файл в формате JSON\n",
    "with open(output_file, \"w\") as json_file:\n",
    "    json.dump(json_list, json_file, indent=4)\n",
    "\n",
    "tweets = pd.read_json('output.json')"
   ]
  },
  {
   "cell_type": "code",
   "execution_count": 162,
   "id": "2cb18143-eb7a-4882-a37a-5e71375b2207",
   "metadata": {
    "scrolled": true
   },
   "outputs": [],
   "source": [
    "# #Предобработка датасета твитов\n",
    "tweets['id_value'] = tweets['user'].apply(lambda user_dict: user_dict.get('id'))\n",
    "tweets = tweets.query(\"@tweets.id_value == 13298072\")\n",
    "tweets = tweets[['date', 'rawContent']]\n",
    "tweets['date'] = pd.to_datetime(tweets.date).dt.date\n",
    "tweets = tweets.rename(columns = {'rawContent' : 'text'})\n",
    "tweets['date'] = pd.to_datetime(tweets['date'])\n",
    "tweets = tweets.set_index('date')"
   ]
  },
  {
   "cell_type": "code",
   "execution_count": 163,
   "id": "a336dd98-c2dd-4a90-8eaa-3a36f8158f13",
   "metadata": {},
   "outputs": [],
   "source": [
    "tweets = tweets.drop_duplicates()"
   ]
  },
  {
   "cell_type": "code",
   "execution_count": 164,
   "id": "f4872442-6d98-41cc-9356-ca18733aee5f",
   "metadata": {},
   "outputs": [],
   "source": [
    "prices = prices.drop_duplicates()\n",
    "prices = prices.dropna(subset=['price'])"
   ]
  },
  {
   "cell_type": "code",
   "execution_count": 165,
   "id": "dc43f2ec-8083-4f0d-ad5a-24551d94bbd1",
   "metadata": {},
   "outputs": [],
   "source": [
    "#Объединение датасета твитов с датасетом биржи (поправить, тк сейчас там только дни, когда были твиты and работала биржа)\n",
    "# merged_df = pd.merge(tweets, prices, left_index=True, right_index=True, how='left')\n",
    "merged_df = prices.merge(tweets, on='date', how='left')"
   ]
  },
  {
   "cell_type": "code",
   "execution_count": 167,
   "id": "0916f808-d3dd-4646-b897-f25af87a3f2d",
   "metadata": {},
   "outputs": [],
   "source": [
    "#Вычисление коэффициента k для каждого твита + постобработка обучающего датасета\n",
    "merged_df['price_tommorow'] = merged_df['price'].shift(-1)\n",
    "merged_df['k'] = merged_df['price_tommorow'] / merged_df['price']\n",
    "merged_df = merged_df.drop(['price_tommorow', 'price'], axis = 1)\n",
    "merged_df = merged_df[:-1]\n",
    "merged_df = merged_df.dropna(subset=['text'])\n",
    "merged_df = merged_df.drop('date', axis = 1)\n",
    "# merged_df['text'].fillna('No tweet', inplace=True)"
   ]
  },
  {
   "cell_type": "code",
   "execution_count": 173,
   "id": "7a754644-a2d6-403a-ae48-c75cd64c8dc3",
   "metadata": {},
   "outputs": [
    {
     "data": {
      "text/html": [
       "<div>\n",
       "<style scoped>\n",
       "    .dataframe tbody tr th:only-of-type {\n",
       "        vertical-align: middle;\n",
       "    }\n",
       "\n",
       "    .dataframe tbody tr th {\n",
       "        vertical-align: top;\n",
       "    }\n",
       "\n",
       "    .dataframe thead th {\n",
       "        text-align: right;\n",
       "    }\n",
       "</style>\n",
       "<table border=\"1\" class=\"dataframe\">\n",
       "  <thead>\n",
       "    <tr style=\"text-align: right;\">\n",
       "      <th></th>\n",
       "      <th>date</th>\n",
       "      <th>text</th>\n",
       "      <th>k</th>\n",
       "    </tr>\n",
       "  </thead>\n",
       "  <tbody>\n",
       "    <tr>\n",
       "      <th>501</th>\n",
       "      <td>2012-06-22</td>\n",
       "      <td>Model S on its way out! #TeslaDeliveries http:...</td>\n",
       "      <td>1.009941</td>\n",
       "    </tr>\n",
       "    <tr>\n",
       "      <th>2257</th>\n",
       "      <td>2019-06-18</td>\n",
       "      <td>Your next charging session is going to be SO 👏...</td>\n",
       "      <td>1.000000</td>\n",
       "    </tr>\n",
       "    <tr>\n",
       "      <th>2258</th>\n",
       "      <td>2019-06-18</td>\n",
       "      <td>Pit crew sold separately. Visit our stores for...</td>\n",
       "      <td>1.000000</td>\n",
       "    </tr>\n",
       "    <tr>\n",
       "      <th>2259</th>\n",
       "      <td>2019-06-18</td>\n",
       "      <td>Beach Buggy Racing 2 by @vectorunit is startin...</td>\n",
       "      <td>0.995766</td>\n",
       "    </tr>\n",
       "    <tr>\n",
       "      <th>2261</th>\n",
       "      <td>2019-06-20</td>\n",
       "      <td>Converting petrolheads, one Supercharger at a ...</td>\n",
       "      <td>0.989743</td>\n",
       "    </tr>\n",
       "    <tr>\n",
       "      <th>...</th>\n",
       "      <td>...</td>\n",
       "      <td>...</td>\n",
       "      <td>...</td>\n",
       "    </tr>\n",
       "    <tr>\n",
       "      <th>3597</th>\n",
       "      <td>2023-10-12</td>\n",
       "      <td>In the US, Model 3 lease now starts at $329/mo...</td>\n",
       "      <td>0.977443</td>\n",
       "    </tr>\n",
       "    <tr>\n",
       "      <th>3598</th>\n",
       "      <td>2023-10-13</td>\n",
       "      <td>https://t.co/0pQmU2Opyx</td>\n",
       "      <td>0.988138</td>\n",
       "    </tr>\n",
       "    <tr>\n",
       "      <th>3600</th>\n",
       "      <td>2023-10-17</td>\n",
       "      <td>Tesla Full Self-Driving capability demo in Aus...</td>\n",
       "      <td>0.981048</td>\n",
       "    </tr>\n",
       "    <tr>\n",
       "      <th>3601</th>\n",
       "      <td>2023-10-18</td>\n",
       "      <td>Q3 2023 Earnings Call https://t.co/eSwixzYTJD</td>\n",
       "      <td>1.000000</td>\n",
       "    </tr>\n",
       "    <tr>\n",
       "      <th>3602</th>\n",
       "      <td>2023-10-18</td>\n",
       "      <td>Q3 Shareholder Update → https://t.co/fvAaI97Wo...</td>\n",
       "      <td>0.900440</td>\n",
       "    </tr>\n",
       "  </tbody>\n",
       "</table>\n",
       "<p>621 rows × 3 columns</p>\n",
       "</div>"
      ],
      "text/plain": [
       "           date                                               text         k\n",
       "501  2012-06-22  Model S on its way out! #TeslaDeliveries http:...  1.009941\n",
       "2257 2019-06-18  Your next charging session is going to be SO 👏...  1.000000\n",
       "2258 2019-06-18  Pit crew sold separately. Visit our stores for...  1.000000\n",
       "2259 2019-06-18  Beach Buggy Racing 2 by @vectorunit is startin...  0.995766\n",
       "2261 2019-06-20  Converting petrolheads, one Supercharger at a ...  0.989743\n",
       "...         ...                                                ...       ...\n",
       "3597 2023-10-12  In the US, Model 3 lease now starts at $329/mo...  0.977443\n",
       "3598 2023-10-13                            https://t.co/0pQmU2Opyx  0.988138\n",
       "3600 2023-10-17  Tesla Full Self-Driving capability demo in Aus...  0.981048\n",
       "3601 2023-10-18      Q3 2023 Earnings Call https://t.co/eSwixzYTJD  1.000000\n",
       "3602 2023-10-18  Q3 Shareholder Update → https://t.co/fvAaI97Wo...  0.900440\n",
       "\n",
       "[621 rows x 3 columns]"
      ]
     },
     "execution_count": 173,
     "metadata": {},
     "output_type": "execute_result"
    }
   ],
   "source": [
    "merged_df"
   ]
  },
  {
   "cell_type": "code",
   "execution_count": 106,
   "id": "a81023b9-c21b-4736-b2dc-5602fa71786a",
   "metadata": {},
   "outputs": [],
   "source": [
    "#Сохранение полученного обучающего датасета \n",
    "merged_df.to_csv('tesla_tweets.csv', index=False)"
   ]
  },
  {
   "cell_type": "code",
   "execution_count": null,
   "id": "3b351170-3351-4234-ad52-0d567bd04b79",
   "metadata": {},
   "outputs": [],
   "source": []
  },
  {
   "cell_type": "code",
   "execution_count": null,
   "id": "a775d610-68f0-4590-bedc-9cf36a1609cd",
   "metadata": {},
   "outputs": [],
   "source": []
  },
  {
   "cell_type": "code",
   "execution_count": 364,
   "id": "afd235a9-2d3d-4715-ad3f-9009d4676c3b",
   "metadata": {},
   "outputs": [],
   "source": [
    "#Сохранил твиты теслы, тк превысил кол-во запросов на юху и больше пока спарсить не смогу((\n",
    "prices.to_csv('prices_tesla_2000to2023.csv', index=False)"
   ]
  },
  {
   "cell_type": "code",
   "execution_count": null,
   "id": "85d92ff3-bc3d-4484-8b6a-3be84d8eda4c",
   "metadata": {},
   "outputs": [],
   "source": []
  }
 ],
 "metadata": {
  "kernelspec": {
   "display_name": "Python 3 (ipykernel)",
   "language": "python",
   "name": "python3"
  },
  "language_info": {
   "codemirror_mode": {
    "name": "ipython",
    "version": 3
   },
   "file_extension": ".py",
   "mimetype": "text/x-python",
   "name": "python",
   "nbconvert_exporter": "python",
   "pygments_lexer": "ipython3",
   "version": "3.11.3"
  }
 },
 "nbformat": 4,
 "nbformat_minor": 5
}
